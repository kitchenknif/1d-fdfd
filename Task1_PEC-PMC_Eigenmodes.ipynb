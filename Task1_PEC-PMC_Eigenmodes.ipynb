{
 "cells": [
  {
   "cell_type": "code",
   "execution_count": 5,
   "metadata": {
    "collapsed": true
   },
   "outputs": [],
   "source": [
    "import numpy as np\n",
    "import scipy as sp\n",
    "import scipy.sparse.linalg as linalg\n",
    "import matplotlib.pyplot as plt\n",
    "%matplotlib inline"
   ]
  },
  {
   "cell_type": "markdown",
   "metadata": {},
   "source": [
    "# Task 1: 1D PEC-PMC Cavity, Eigenmode formulation"
   ]
  },
  {
   "cell_type": "markdown",
   "metadata": {},
   "source": [
    "### 0. Maxwell Equations (time domain)\n",
    "$\\nabla \\times E = - \\mu \\frac{\\partial H}{\\partial t}$\n",
    "\n",
    "$\\nabla \\times H = \\epsilon \\frac{\\partial E}{\\partial t}$"
   ]
  },
  {
   "cell_type": "markdown",
   "metadata": {},
   "source": [
    "### 1. Time Domain $\\rightarrow$ Frequency Domain\n",
    "\n",
    "Using the Fourier transform we get:\n",
    "\n",
    "$E(r, t) \\rightarrow E(r, \\omega)$\n",
    "\n",
    "$\\frac{\\partial E}{\\partial t} \\rightarrow i\\omega E$\n",
    "\n",
    "Thus our wave equation transforms into:\n",
    "\n",
    "$\\nabla E = - i \\omega \\mu H$\n",
    "\n",
    "$\\nabla E = - i \\omega \\epsilon E$"
   ]
  },
  {
   "cell_type": "markdown",
   "metadata": {},
   "source": [
    "### 2. 1D Coordinates\n",
    "\n",
    "${H_y}_{i}, {E_z}_{i+\\frac{1}{2}}, i \\in \\mathcal{N}$\n",
    "\n",
    "$\\frac{\\partial E_z}{\\partial x} = - i \\omega \\mu H_y$\n",
    "\n",
    "$\\frac{\\partial H_y}{\\partial x} = i \\omega \\epsilon E_z$"
   ]
  },
  {
   "cell_type": "markdown",
   "metadata": {},
   "source": [
    "### 3. Discretization\n",
    "$\\frac{\\partial {E_z}_i}{\\partial x} \\approx \\frac{{E_z}_{i+1} - {E_z}_{i-1}}{\\Delta x}$\n",
    "\n",
    "$-i\\omega\\mu {E_z}_{i+\\frac{1}{2}} \\approx \\frac{{H_y}_{i+1} - {H_y}_{i}}{\\Delta x}$ - Forward difference\n",
    "\n",
    "$-i\\omega\\epsilon {H_y}_{i} \\approx \\frac{{E_z}_{i+\\frac{1}{2}} - {E_z}_{i-\\frac{1}{2}}}{\\Delta x}$ - Backward difference"
   ]
  },
  {
   "cell_type": "markdown",
   "metadata": {},
   "source": [
    "### 4. Wave equation\n",
    "\n",
    "$H_y = \\frac{i}{\\omega \\mu }\\frac{\\partial E_z}{\\partial x}$\n",
    "\n",
    "$E_z = \\frac{-i}{\\omega \\epsilon }\\frac{\\partial H_y}{\\partial x}$\n",
    "\n",
    "$\\frac{\\partial}{\\partial x}\\frac{i}{\\omega \\mu }\\frac{\\partial}{\\partial x} E_z = i \\omega \\epsilon E_z$\n",
    "\n",
    "$\\frac{1}{\\epsilon}\\frac{\\partial}{\\partial x}\\frac{1}{\\mu}\\frac{\\partial}{\\partial x} E_z = \\omega^2 E_z$\n",
    "\n",
    "or\n",
    "\n",
    "$\\frac{1}{\\mu}\\frac{\\partial}{\\partial x}\\frac{1}{\\epsilon}\\frac{\\partial}{\\partial x} H_y = \\omega^2 H_y$\n"
   ]
  },
  {
   "cell_type": "markdown",
   "metadata": {},
   "source": [
    "### 5. Matrix form\n",
    "\n",
    "$H_y = \\frac{i}{\\omega \\mu }\\frac{\\partial E_z}{\\partial x} \\approx \\frac{i}{\\omega \\mu }\\frac{{E_z}_{i+\\frac{1}{2}} - {E_z}_{i-\\frac{1}{2}}}{\\Delta x}$\n",
    "\n",
    "$\n",
    "\\begin{bmatrix}\n",
    "    {H_y}_{0} \\\\\n",
    "    {H_y}_{1} \\\\\n",
    "    \\vdots \\\\\n",
    "    {H_y}_{n-1} \\\\    \n",
    "    {H_y}_{n}    \n",
    "\\end{bmatrix} \n",
    "=\n",
    "\\frac{i}{\\omega \\mu \\Delta x}\n",
    "\\begin{bmatrix}\n",
    "    1      & 0      & 0      & \\dots  & 0      \\\\\n",
    "    -1     & 1      & 0      & \\dots  & 0      \\\\\n",
    "    0      & -1     & 1      & \\dots  & \\vdots \\\\\n",
    "    \\vdots & \\vdots & \\vdots & \\ddots & 0      \\\\\n",
    "    0      & 0      & \\dots  & -1     & 1\n",
    "\\end{bmatrix}\n",
    "\\begin{bmatrix}\n",
    "    {E_z}_{0+\\frac{1}{2}} \\\\\n",
    "    {E_z}_{1+\\frac{1}{2}} \\\\\n",
    "    \\vdots \\\\\n",
    "    {E_z}_{n-\\frac{1}{2}} \\\\    \n",
    "    {E_z}_{n+\\frac{1}{2}}    \n",
    "\\end{bmatrix} \n",
    "$\n",
    "\n",
    "$E_z = \\frac{-i}{\\omega \\epsilon }\\frac{\\partial H_y}{\\partial x} \\approx \\frac{-i}{\\omega \\epsilon } \\frac{{H_y}_{i+1} - {H_y}_{i}}{\\Delta x}$\n",
    "\n",
    "$\n",
    "\\begin{bmatrix}\n",
    "    {E_z}_{0+\\frac{1}{2}} \\\\\n",
    "    {E_z}_{1+\\frac{1}{2}} \\\\\n",
    "    \\vdots \\\\\n",
    "    {E_z}_{n-\\frac{1}{2}} \\\\    \n",
    "    {E_z}_{n+\\frac{1}{2}}    \n",
    "\\end{bmatrix}\n",
    "=\n",
    "\\frac{i}{\\omega \\mu \\Delta x}\n",
    "\\begin{bmatrix}\n",
    "    -1     & 1      & 0      & \\dots  & 0      \\\\\n",
    "    0      & -1     & 1      & \\dots  & 0      \\\\\n",
    "    0      & 0      & -1     & \\dots  & \\vdots \\\\\n",
    "    \\vdots & \\vdots & \\vdots & \\ddots & 1      \\\\\n",
    "    0      & 0      & \\dots  & 0      & -1\n",
    "\\end{bmatrix}\n",
    "\\begin{bmatrix}\n",
    "    {H_y}_{0} \\\\\n",
    "    {H_y}_{1} \\\\\n",
    "    \\vdots \\\\\n",
    "    {H_y}_{n-1} \\\\    \n",
    "    {H_y}_{n}    \n",
    "\\end{bmatrix} \n",
    "$\n",
    "\n",
    "$\\omega^2 E_z = \\frac{1}{\\epsilon}\\frac{\\partial}{\\partial x}\\frac{1}{\\mu}\\frac{\\partial}{\\partial x} E_z$\n",
    "\n",
    "$\n",
    "\\omega^2\n",
    "\\begin{bmatrix}\n",
    "    {E_z}_{0+\\frac{1}{2}} \\\\\n",
    "    {E_z}_{1+\\frac{1}{2}} \\\\\n",
    "    \\vdots \\\\\n",
    "    {E_z}_{n-\\frac{1}{2}} \\\\    \n",
    "    {E_z}_{n+\\frac{1}{2}}    \n",
    "\\end{bmatrix}\n",
    "=\n",
    "\\frac{i}{\\mu \\Delta x}\n",
    "\\begin{bmatrix}\n",
    "    -1     & 1      & 0      & \\dots  & 0      \\\\\n",
    "    0      & -1     & 1      & \\dots  & 0      \\\\\n",
    "    0      & 0      & -1     & \\dots  & \\vdots \\\\\n",
    "    \\vdots & \\vdots & \\vdots & \\ddots & 1      \\\\\n",
    "    0      & 0      & \\dots  & 0      & -1\n",
    "\\end{bmatrix}\n",
    "\\frac{i}{\\mu \\Delta x}\n",
    "\\begin{bmatrix}\n",
    "    1      & 0      & 0      & \\dots  & 0      \\\\\n",
    "    -1     & 1      & 0      & \\dots  & 0      \\\\\n",
    "    0      & -1     & 1      & \\dots  & \\vdots \\\\\n",
    "    \\vdots & \\vdots & \\vdots & \\ddots & 0      \\\\\n",
    "    0      & 0      & \\dots  & -1     & 1\n",
    "\\end{bmatrix}\n",
    "\\begin{bmatrix}\n",
    "    {E_z}_{0+\\frac{1}{2}} \\\\\n",
    "    {E_z}_{1+\\frac{1}{2}} \\\\\n",
    "    \\vdots \\\\\n",
    "    {E_z}_{n-\\frac{1}{2}} \\\\    \n",
    "    {E_z}_{n+\\frac{1}{2}}    \n",
    "\\end{bmatrix} \n",
    "$\n",
    "\n",
    "or, simplifing, and replacing $i+\\frac{1}{2}$ with $i$:\n",
    "\n",
    "\n",
    "$\n",
    "\\omega^2\n",
    "\\begin{bmatrix}\n",
    "    {E_z}_{0} \\\\\n",
    "    {E_z}_{1} \\\\\n",
    "    \\vdots \\\\\n",
    "    {E_z}_{n-1} \\\\    \n",
    "    {E_z}_{n}    \n",
    "\\end{bmatrix}\n",
    "=\n",
    "- \\frac{1}{\\mu \\epsilon \\Delta x^2}\n",
    "\\begin{bmatrix}\n",
    "    -1     & 1      & 0      & \\dots  & 0      \\\\\n",
    "    0      & -1     & 1      & \\dots  & 0      \\\\\n",
    "    0      & 0      & -1     & \\dots  & \\vdots \\\\\n",
    "    \\vdots & \\vdots & \\vdots & \\ddots & 1      \\\\\n",
    "    0      & 0      & \\dots  & 0      & -1\n",
    "\\end{bmatrix}\n",
    "\\begin{bmatrix}\n",
    "    1      & 0      & 0      & \\dots  & 0      \\\\\n",
    "    -1     & 1      & 0      & \\dots  & 0      \\\\\n",
    "    0      & -1     & 1      & \\dots  & \\vdots \\\\\n",
    "    \\vdots & \\vdots & \\vdots & \\ddots & 0      \\\\\n",
    "    0      & 0      & \\dots  & -1     & 1\n",
    "\\end{bmatrix}\n",
    "\\begin{bmatrix}\n",
    "    {E_z}_{0} \\\\\n",
    "    {E_z}_{1} \\\\\n",
    "    \\vdots \\\\\n",
    "    {E_z}_{n-1} \\\\    \n",
    "    {E_z}_{n}    \n",
    "\\end{bmatrix} \n",
    "$"
   ]
  },
  {
   "cell_type": "markdown",
   "metadata": {},
   "source": [
    "### 6. Boundary Conditions\n",
    "\n",
    "#### PEC\n",
    "\n",
    "${E_z}_{i} = 0$\n",
    "\n",
    "#### PMC\n",
    "\n",
    "${H_y}_{i} = 0$\n",
    "\n",
    "In our equations, they are automatically satisfied at the boundaries. "
   ]
  },
  {
   "cell_type": "markdown",
   "metadata": {
    "collapsed": true
   },
   "source": [
    "# Implementation\n",
    "### 0. Setup grid"
   ]
  },
  {
   "cell_type": "code",
   "execution_count": 6,
   "metadata": {
    "collapsed": true
   },
   "outputs": [],
   "source": [
    "n   = 100     # Num grid nodes\n",
    "dx  = 1. / n  # Step size for overall size of 1\n",
    "\n",
    "eps = 1.      #  Vacuum\n",
    "mu  = 1.      #  Vacuum\n",
    "\n",
    "A   = - 1. / (dx**2 * mu * eps)"
   ]
  },
  {
   "cell_type": "markdown",
   "metadata": {},
   "source": [
    "### 1. Build matrix"
   ]
  },
  {
   "cell_type": "code",
   "execution_count": 7,
   "metadata": {
    "collapsed": false
   },
   "outputs": [],
   "source": [
    "# Forward\n",
    "\n",
    "diag = np.ones(n) * -A\n",
    "up_diag = np.ones(n) * A\n",
    "\n",
    "M_1 = sp.sparse.dia_matrix(([up_diag, diag], [1, 0]), [n,n])\n",
    "\n",
    "# Backward\n",
    "\n",
    "diag = np.ones(n) * 1\n",
    "up_diag = np.ones(n) * -1\n",
    "\n",
    "M_2 = sp.sparse.dia_matrix(([up_diag, diag], [-1, 0]), [n,n])\n",
    "\n",
    "M = M_1.dot(M_2)"
   ]
  },
  {
   "cell_type": "code",
   "execution_count": 31,
   "metadata": {
    "collapsed": false
   },
   "outputs": [
    {
     "name": "stderr",
     "output_type": "stream",
     "text": [
      "/usr/local/lib/python3.5/dist-packages/ipykernel/__main__.py:6: RuntimeWarning: divide by zero encountered in true_divide\n"
     ]
    }
   ],
   "source": [
    "kt = 2*sp.pi*1                                    # wave vector target to find resonance wavelength\n",
    "k2, V = linalg.eigs(M, k=6, M=None, sigma=kt**2)  # solve for eigenvalues and vectors\n",
    "\n",
    "k = np.sort(np.sqrt(k2))                          # sort\n",
    "lam = 2*sp.pi/np.real(k)                          # wavelength\n",
    "Q = np.real(k)/(2*np.imag(k))                     # quality factor"
   ]
  },
  {
   "cell_type": "code",
   "execution_count": 32,
   "metadata": {
    "collapsed": false
   },
   "outputs": [
    {
     "data": {
      "text/plain": [
       "[<matplotlib.lines.Line2D at 0x7fdddd65ba58>]"
      ]
     },
     "execution_count": 32,
     "metadata": {},
     "output_type": "execute_result"
    },
    {
     "data": {
      "image/png": "[encoded data removed]",
      "text/plain": [
       "<matplotlib.figure.Figure at 0x7fdddd65b7b8>"
      ]
     },
     "metadata": {},
     "output_type": "display_data"
    }
   ],
   "source": [
    "plt.plot(np.arange(1,6.1,1), lam, '-')                         # Num\n",
    "plt.plot(np.arange(1,6.1,1), 4/(2*np.arange(0,5.1,1)+1), '*')  # Analytic"
   ]
  },
  {
   "cell_type": "code",
   "execution_count": 33,
   "metadata": {
    "collapsed": false
   },
   "outputs": [
    {
     "data": {
      "image/png": "[encoded data removed]",
      "text/plain": [
       "<matplotlib.figure.Figure at 0x7fddddd0ef60>"
      ]
     },
     "metadata": {},
     "output_type": "display_data"
    }
   ],
   "source": [
    "f, ax = plt.subplots(6,1, sharex=True, sharey=True)\n",
    "for n in np.arange(V.shape[1]):\n",
    "    ax[n].plot(np.abs(V[:,n]),'-')"
   ]
  },
  {
   "cell_type": "code",
   "execution_count": null,
   "metadata": {
    "collapsed": true
   },
   "outputs": [],
   "source": []
  }
 ],
 "metadata": {
  "kernelspec": {
   "display_name": "Python 3",
   "language": "python",
   "name": "python3"
  },
  "language_info": {
   "codemirror_mode": {
    "name": "ipython",
    "version": 3
   },
   "file_extension": ".py",
   "mimetype": "text/x-python",
   "name": "python",
   "nbconvert_exporter": "python",
   "pygments_lexer": "ipython3",
   "version": "3.5.1+"
  }
 },
 "nbformat": 4,
 "nbformat_minor": 0
}
