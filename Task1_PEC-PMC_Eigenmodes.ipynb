{
 "cells": [
  {
   "cell_type": "code",
   "execution_count": 3,
   "metadata": {
    "collapsed": false
   },
   "outputs": [],
   "source": [
    "%matplotlib inline"
   ]
  },
  {
   "cell_type": "code",
   "execution_count": 5,
   "metadata": {
    "collapsed": true
   },
   "outputs": [],
   "source": [
    "import numpy as np\n",
    "import scipy as sp\n",
    "import scipy.sparse.linalg as linalg\n",
    "import matplotlib.pyplot as plt"
   ]
  },
  {
   "cell_type": "markdown",
   "metadata": {},
   "source": [
    "# Task 1: 1D PEC-PMC Cavity, Eigenmode formulation"
   ]
  },
  {
   "cell_type": "markdown",
   "metadata": {},
   "source": [
    "### 0. Maxwell Equations (time domain)\n",
    "$\\nabla \\times E = - \\mu \\frac{\\partial H}{\\partial t}$\n",
    "\n",
    "$\\nabla \\times H = \\epsilon \\frac{\\partial E}{\\partial t}$\n",
    "\n",
    "### 1. Wave Equations\n",
    "\n",
    "$\\Delta E = \\mu \\epsilon \\frac{\\partial^2 E}{\\partial t^2}$\n",
    "\n",
    "$\\Delta H = \\mu \\epsilon \\frac{\\partial^2 H}{\\partial t^2}$\n",
    "\n",
    "Since there is no difference between the equations, we will use the wave equation for $E$\n",
    "\n",
    "### 2. Time Domain $\\rightarrow$ Frequency Domain\n",
    "\n",
    "Using the Fourier transform we get:\n",
    "\n",
    "$E(r, t) \\rightarrow E(r, w)$\n",
    "\n",
    "$\\frac{\\partial E}{\\partial t} \\rightarrow i\\omega E$\n",
    "\n",
    "Thus our wave equation transforms into:\n",
    "\n",
    "$\\Delta E = - \\omega^2 \\mu \\epsilon E$\n",
    "\n",
    "### 3. 1D Coordinates\n",
    "\n",
    "$\\frac{\\partial^2 E_z}{\\partial x^2} = \\omega^2 \\mu \\epsilon E_z$\n",
    "\n",
    "### 4. Discretization\n",
    "\n",
    "$\\frac{\\partial {E_z}_i}{\\partial x} \\approx \\frac{{E_z}_{i+1} - {E_z}_{i-1}}{\\Delta x}$\n",
    "\n",
    "$\\frac{\\partial^2 {E_z}_i}{\\partial x^2} \\approx \\frac{\\frac{\\partial {E_z}_{i+\\frac{1}{2}}}{\\partial x} - \\frac{\\partial {E_z}_{i-\\frac{1}{2}}}{\\partial x}}{\\Delta x} = \\frac{\\frac{{E_z}_{i+1} - {E_z}_{i}}{\\Delta x} - \\frac{{E_z}_{i} - {E_z}_{i-1}}{\\Delta x}}{\\Delta x} = \\frac{{E_z}_{i+1} - 2 {E_z}_{i} + {E_z}_{i-1}}{\\Delta x^2}$\n",
    "\n",
    "Which gives us:\n",
    "\n",
    "$\\frac{{E_z}_{i+1} - 2 {E_z}_{i} + {E_z}_{i-1}}{\\Delta x^2} = \\omega^2 \\mu_i \\epsilon_i {E_z}_{i}$\n",
    "\n",
    "${E_z}_{i+1} -(2 + \\Delta x^2 \\omega^2 \\mu_i \\epsilon_i){E_z}_{i} + {E_z}_{i-1} = 0$\n",
    "\n",
    "${E_z}_{i+1} -2{E_z}_{i} + {E_z}_{i-1} = \\Delta x^2 \\omega^2 \\mu_i \\epsilon_i{E_z}_{i}$\n",
    "\n",
    "$\\frac{1}{\\mu_i \\epsilon_i \\Delta x^2} ({E_z}_{i+1} -2{E_z}_{i} + {E_z}_{i-1}) = \\omega^2 {E_z}_{i}$\n",
    "### 5. Matrix form\n",
    "\n",
    "$A_i = \\frac{1}{\\Delta x^2 \\mu_i \\epsilon_i}$\n",
    "\n",
    "or just A if $\\mu_i = \\mu$ and $\\epsilon_i = \\epsilon$\n",
    "\n",
    "$\n",
    "%\\begin{bmatrix}\n",
    "%    A_{0} \\\\\n",
    "%    A_{1} \\\\\n",
    "%    \\vdots \\\\\n",
    "%    A_{n-1} \\\\    \n",
    "%    A_{n}    \n",
    "%\\end{bmatrix}\n",
    "A\n",
    "\\begin{bmatrix}\n",
    "    -2    & 1      & 0      & \\dots  & 0      \\\\\n",
    "    1      & -2    & 1      & \\dots  & 0      \\\\\n",
    "    0      & 1      & -2    & \\dots  & \\vdots \\\\\n",
    "    \\vdots & \\vdots & \\vdots & \\ddots & 1      \\\\\n",
    "    0      & 0      & \\dots  & 1      & -2\n",
    "\\end{bmatrix}\n",
    "\\begin{bmatrix}\n",
    "    {E_z}_{0} \\\\\n",
    "    {E_z}_{1} \\\\\n",
    "    \\vdots \\\\\n",
    "    {E_z}_{n-1} \\\\    \n",
    "    {E_z}_{n}    \n",
    "\\end{bmatrix}\n",
    "= \\omega^2 \n",
    "\\begin{bmatrix}\n",
    "    {E_z}_{0} \\\\\n",
    "    {E_z}_{1} \\\\\n",
    "    \\vdots \\\\\n",
    "    {E_z}_{n-1} \\\\    \n",
    "    {E_z}_{n}    \n",
    "\\end{bmatrix}\n",
    "$\n",
    "\n",
    "### 6. Boundary Conditions\n",
    "\n",
    "#### PEC\n",
    "\n",
    "${E_z}_{i} = 0$\n",
    "\n",
    "#### PMC\n",
    "\n",
    "${H_y}_{i} = 0$\n",
    "\n",
    "$\\nabla \\times E = - \\mu \\frac{\\partial H}{\\partial t}$\n",
    "\n",
    "$\\frac{{E_z}_{i}}{\\partial x}  = 0$\n",
    "\n",
    "$\\frac{{E_z}_{i}}{\\partial x}  \\approx \\frac{{E_z}_{i+1} - {E_z}_{i-1}}{\\Delta x}$\n",
    "\n",
    "${E_z}_{i+1} = {E_z}_{i-1}$"
   ]
  },
  {
   "cell_type": "markdown",
   "metadata": {
    "collapsed": true
   },
   "source": [
    "# Implementation\n",
    "### 0. Setup grid"
   ]
  },
  {
   "cell_type": "code",
   "execution_count": 1,
   "metadata": {
    "collapsed": true
   },
   "outputs": [],
   "source": [
    "n   = 100     # Num grid nodes\n",
    "dx  = 1. / n  # Step size for overall size of 1\n",
    "\n",
    "eps = 1.      #  Vacuum\n",
    "mu  = 1.      #  Vacuum\n",
    "\n",
    "A   = 1. / (dx**2 * mu * eps)"
   ]
  },
  {
   "cell_type": "markdown",
   "metadata": {},
   "source": [
    "### 1. Build matrix"
   ]
  },
  {
   "cell_type": "code",
   "execution_count": 14,
   "metadata": {
    "collapsed": false
   },
   "outputs": [],
   "source": [
    "diag = np.ones(n) * -2 * A\n",
    "up_diag = np.ones(n) * A\n",
    "down_diag = np.ones(n) * A\n",
    "\n",
    "#PEC\n",
    "diag[0] = 0\n",
    "\n",
    "#PMC\n",
    "diag[-1] = 1 * A\n",
    "down_diag[-1] =  -1 * A\n",
    "\n",
    "M = sp.sparse.dia_matrix(([up_diag, diag, down_diag], [1, 0, -1]), [n,n])"
   ]
  },
  {
   "cell_type": "code",
   "execution_count": 15,
   "metadata": {
    "collapsed": false
   },
   "outputs": [],
   "source": [
    "kt = 2*sp.pi*1  # wave vector target to find resonance wavelength\n",
    "k2, V = linalg.eigs(M, k=6, M=None, sigma=kt**2) "
   ]
  },
  {
   "cell_type": "code",
   "execution_count": null,
   "metadata": {
    "collapsed": true
   },
   "outputs": [],
   "source": []
  }
 ],
 "metadata": {
  "kernelspec": {
   "display_name": "Python 3",
   "language": "python",
   "name": "python3"
  },
  "language_info": {
   "codemirror_mode": {
    "name": "ipython",
    "version": 3
   },
   "file_extension": ".py",
   "mimetype": "text/x-python",
   "name": "python",
   "nbconvert_exporter": "python",
   "pygments_lexer": "ipython3",
   "version": "3.5.1+"
  }
 },
 "nbformat": 4,
 "nbformat_minor": 0
}
